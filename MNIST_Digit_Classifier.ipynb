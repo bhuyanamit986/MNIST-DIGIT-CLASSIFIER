{
  "nbformat": 4,
  "nbformat_minor": 0,
  "metadata": {
    "colab": {
      "name": "MNIST Digit Classifier.ipynb",
      "provenance": [],
      "collapsed_sections": []
    },
    "kernelspec": {
      "name": "python3",
      "display_name": "Python 3"
    }
  },
  "cells": [
    {
      "cell_type": "markdown",
      "metadata": {
        "id": "XUwNxrgNaXBp",
        "colab_type": "text"
      },
      "source": [
        "#**MNIST Data Classifier**\n",
        "\n",
        "---\n",
        "\n",
        "\n",
        "\n",
        "\n",
        "\n"
      ]
    },
    {
      "cell_type": "markdown",
      "metadata": {
        "id": "oqFBgow88mUX",
        "colab_type": "text"
      },
      "source": [
        "### Importing Libraries"
      ]
    },
    {
      "cell_type": "code",
      "metadata": {
        "id": "no_BbYWOWmHP",
        "colab_type": "code",
        "colab": {}
      },
      "source": [
        "import keras\n",
        "from keras.models import Sequential\n",
        "from keras.layers import Dense\n",
        "from keras.utils import to_categorical\n",
        "from keras.datasets import mnist\n",
        "import matplotlib.pyplot as plt\n",
        "import seaborn as sns\n",
        "sns.set(style=\"darkgrid\", context='notebook')"
      ],
      "execution_count": 0,
      "outputs": []
    },
    {
      "cell_type": "code",
      "metadata": {
        "id": "-LM2uchhWp7S",
        "colab_type": "code",
        "colab": {}
      },
      "source": [
        "(X_train, y_train), (X_test, y_test)=mnist.load_data()"
      ],
      "execution_count": 0,
      "outputs": []
    },
    {
      "cell_type": "markdown",
      "metadata": {
        "id": "iMzEnsod8uan",
        "colab_type": "text"
      },
      "source": [
        "### Visualizing Our Datasets"
      ]
    },
    {
      "cell_type": "code",
      "metadata": {
        "id": "FgFy7Cn7Xsek",
        "colab_type": "code",
        "colab": {
          "base_uri": "https://localhost:8080/",
          "height": 285
        },
        "outputId": "d5411a3e-c2f4-4b7a-e383-aab8cd5b9afd"
      },
      "source": [
        "plt.imshow(X_train[0], cmap='hot', interpolation='hamming')"
      ],
      "execution_count": 224,
      "outputs": [
        {
          "output_type": "execute_result",
          "data": {
            "text/plain": [
              "<matplotlib.image.AxesImage at 0x7fb30a255198>"
            ]
          },
          "metadata": {
            "tags": []
          },
          "execution_count": 224
        },
        {
          "output_type": "display_data",
          "data": {
            "image/png": "[encoded data removed]",
            "text/plain": [
              "<Figure size 432x288 with 1 Axes>"
            ]
          },
          "metadata": {
            "tags": []
          }
        }
      ]
    },
    {
      "cell_type": "code",
      "metadata": {
        "id": "3f_dPNtYXwHw",
        "colab_type": "code",
        "colab": {
          "base_uri": "https://localhost:8080/",
          "height": 285
        },
        "outputId": "2fb35c1a-8afd-4275-f521-c50dda521c74"
      },
      "source": [
        "plt.imshow(X_train[1], cmap='Pastel2', interpolation='spline36')"
      ],
      "execution_count": 225,
      "outputs": [
        {
          "output_type": "execute_result",
          "data": {
            "text/plain": [
              "<matplotlib.image.AxesImage at 0x7fb30a162710>"
            ]
          },
          "metadata": {
            "tags": []
          },
          "execution_count": 225
        },
        {
          "output_type": "display_data",
          "data": {
            "image/png": "[encoded data removed]",
            "text/plain": [
              "<Figure size 432x288 with 1 Axes>"
            ]
          },
          "metadata": {
            "tags": []
          }
        }
      ]
    },
    {
      "cell_type": "markdown",
      "metadata": {
        "id": "pHM7oH0q83wc",
        "colab_type": "text"
      },
      "source": [
        "#### Normalising the data because pixels values lie between 0 and 255"
      ]
    },
    {
      "cell_type": "code",
      "metadata": {
        "id": "EuXZEK7cZMJa",
        "colab_type": "code",
        "colab": {}
      },
      "source": [
        "X_train.shape\n",
        "X_train=X_train/255\n",
        "X_test=X_test/255"
      ],
      "execution_count": 0,
      "outputs": []
    },
    {
      "cell_type": "code",
      "metadata": {
        "id": "X9Kmai9BZrfQ",
        "colab_type": "code",
        "colab": {}
      },
      "source": [
        "import numpy as np\n",
        "filtern=np.random.randn(28, 28)\n",
        "#applying filters\n",
        "appfil=np.dot(X_train[0], filtern)\n",
        "diffil=np.where(X_train[0]>0, 100, 1000)"
      ],
      "execution_count": 0,
      "outputs": []
    },
    {
      "cell_type": "code",
      "metadata": {
        "id": "P3ztpGtrnEtE",
        "colab_type": "code",
        "colab": {
          "base_uri": "https://localhost:8080/",
          "height": 285
        },
        "outputId": "4f02e89b-74d1-47b6-fd3c-8b5ba3b31e0c"
      },
      "source": [
        "plt.imshow(diffil, cmap='hot', interpolation='hamming')"
      ],
      "execution_count": 228,
      "outputs": [
        {
          "output_type": "execute_result",
          "data": {
            "text/plain": [
              "<matplotlib.image.AxesImage at 0x7fb30a135c50>"
            ]
          },
          "metadata": {
            "tags": []
          },
          "execution_count": 228
        },
        {
          "output_type": "display_data",
          "data": {
            "image/png": "[encoded data removed]",
            "text/plain": [
              "<Figure size 432x288 with 1 Axes>"
            ]
          },
          "metadata": {
            "tags": []
          }
        }
      ]
    },
    {
      "cell_type": "code",
      "metadata": {
        "id": "n4l8bPAwq-V9",
        "colab_type": "code",
        "colab": {}
      },
      "source": [
        "#flattening the shapes of training and test sets to train in the neural network\n",
        "flat_X_train, flatten_X_test=np.array([i.flatten() for i in X_train]), np.array([l.flatten() for l in X_test])\n"
      ],
      "execution_count": 0,
      "outputs": []
    },
    {
      "cell_type": "markdown",
      "metadata": {
        "id": "Q5RsIWnz9iV2",
        "colab_type": "text"
      },
      "source": [
        "###Creating our Classifier"
      ]
    },
    {
      "cell_type": "code",
      "metadata": {
        "id": "U2frbhi4nbuS",
        "colab_type": "code",
        "colab": {}
      },
      "source": [
        "def neural_network():\n",
        "  \n",
        "  model=Sequential()\n",
        "  model.add(Dense(784, activation='relu', input_shape=(784,)))\n",
        "  model.add(Dense(128, activation='relu'))\n",
        "  model.add(Dense(20, activation='relu'))\n",
        "  model.add(Dense(10, activation='softmax'))\n",
        "\n",
        "  model.compile(optimizer='adam', loss='categorical_crossentropy', metrics=['accuracy'])\n",
        "  return model"
      ],
      "execution_count": 0,
      "outputs": []
    },
    {
      "cell_type": "code",
      "metadata": {
        "id": "faWf_e7_qbp9",
        "colab_type": "code",
        "colab": {}
      },
      "source": [
        "y_train=to_categorical(y_train)\n",
        "y_test=to_categorical(y_test)"
      ],
      "execution_count": 0,
      "outputs": []
    },
    {
      "cell_type": "markdown",
      "metadata": {
        "id": "aIUolYrd9qRu",
        "colab_type": "text"
      },
      "source": [
        "###Training and Evaluating our Dataset"
      ]
    },
    {
      "cell_type": "code",
      "metadata": {
        "id": "WAki5DTnwEOq",
        "colab_type": "code",
        "colab": {
          "base_uri": "https://localhost:8080/",
          "height": 370
        },
        "outputId": "028cdb61-70a6-4ad1-a1bb-0d6f0b2e74fd"
      },
      "source": [
        "classifier=neural_network()\n",
        "classifier.fit(flat_X_train,  y_train, validation_data=(flatten_X_test, y_test), epochs=10, verbose=2)\n",
        "scores=classifier.evaluate(flatten_X_test, y_test, verbose=0)"
      ],
      "execution_count": 234,
      "outputs": [
        {
          "output_type": "stream",
          "text": [
            "Train on 60000 samples, validate on 10000 samples\n",
            "Epoch 1/10\n",
            " - 21s - loss: 0.2131 - acc: 0.9360 - val_loss: 0.1017 - val_acc: 0.9700\n",
            "Epoch 2/10\n",
            " - 20s - loss: 0.0867 - acc: 0.9734 - val_loss: 0.0897 - val_acc: 0.9720\n",
            "Epoch 3/10\n",
            " - 22s - loss: 0.0577 - acc: 0.9822 - val_loss: 0.0769 - val_acc: 0.9790\n",
            "Epoch 4/10\n",
            " - 21s - loss: 0.0445 - acc: 0.9859 - val_loss: 0.1006 - val_acc: 0.9704\n",
            "Epoch 5/10\n",
            " - 21s - loss: 0.0350 - acc: 0.9887 - val_loss: 0.0998 - val_acc: 0.9743\n",
            "Epoch 6/10\n",
            " - 21s - loss: 0.0297 - acc: 0.9906 - val_loss: 0.0748 - val_acc: 0.9797\n",
            "Epoch 7/10\n",
            " - 22s - loss: 0.0269 - acc: 0.9910 - val_loss: 0.0906 - val_acc: 0.9768\n",
            "Epoch 8/10\n",
            " - 21s - loss: 0.0225 - acc: 0.9929 - val_loss: 0.0863 - val_acc: 0.9795\n",
            "Epoch 9/10\n",
            " - 21s - loss: 0.0168 - acc: 0.9943 - val_loss: 0.0929 - val_acc: 0.9813\n",
            "Epoch 10/10\n",
            " - 21s - loss: 0.0196 - acc: 0.9939 - val_loss: 0.0818 - val_acc: 0.9812\n"
          ],
          "name": "stdout"
        }
      ]
    },
    {
      "cell_type": "code",
      "metadata": {
        "id": "6epInvm-wF4_",
        "colab_type": "code",
        "colab": {
          "base_uri": "https://localhost:8080/",
          "height": 34
        },
        "outputId": "42e6a6b1-4092-4e6c-89be-9ac30c8f41e1"
      },
      "source": [
        "print('Final Test Accuracy: {:.3f}%'.format(scores[1]*100))"
      ],
      "execution_count": 237,
      "outputs": [
        {
          "output_type": "stream",
          "text": [
            "Final Test Accuracy: 98.120%\n"
          ],
          "name": "stdout"
        }
      ]
    },
    {
      "cell_type": "markdown",
      "metadata": {
        "id": "ORYFiC6H94QB",
        "colab_type": "text"
      },
      "source": [
        "###Predicting a digit"
      ]
    },
    {
      "cell_type": "code",
      "metadata": {
        "id": "grJezrt-298e",
        "colab_type": "code",
        "colab": {
          "base_uri": "https://localhost:8080/",
          "height": 34
        },
        "outputId": "aa6627ed-251b-4485-a799-74e092127bcb"
      },
      "source": [
        "classifier.predict(flatten_X_test[1].reshape(1, -1)).argmax()"
      ],
      "execution_count": 244,
      "outputs": [
        {
          "output_type": "execute_result",
          "data": {
            "text/plain": [
              "2"
            ]
          },
          "metadata": {
            "tags": []
          },
          "execution_count": 244
        }
      ]
    },
    {
      "cell_type": "code",
      "metadata": {
        "id": "529rlmu07mMK",
        "colab_type": "code",
        "colab": {
          "base_uri": "https://localhost:8080/",
          "height": 285
        },
        "outputId": "ca242f8f-b34d-45ec-dea9-a1a7ca0a8962"
      },
      "source": [
        "plt.imshow(X_test[1], cmap='CMRmap', interpolation='hermite')"
      ],
      "execution_count": 245,
      "outputs": [
        {
          "output_type": "execute_result",
          "data": {
            "text/plain": [
              "<matplotlib.image.AxesImage at 0x7fb3044ccfd0>"
            ]
          },
          "metadata": {
            "tags": []
          },
          "execution_count": 245
        },
        {
          "output_type": "display_data",
          "data": {
            "image/png": "[encoded data removed]",
            "text/plain": [
              "<Figure size 432x288 with 1 Axes>"
            ]
          },
          "metadata": {
            "tags": []
          }
        }
      ]
    },
    {
      "cell_type": "markdown",
      "metadata": {
        "id": "dgw-PrFU-Ks5",
        "colab_type": "text"
      },
      "source": [
        "***Correctly Predicted***"
      ]
    },
    {
      "cell_type": "code",
      "metadata": {
        "id": "Axu7XZv0-F0u",
        "colab_type": "code",
        "colab": {}
      },
      "source": [
        ""
      ],
      "execution_count": 0,
      "outputs": []
    }
  ]
}